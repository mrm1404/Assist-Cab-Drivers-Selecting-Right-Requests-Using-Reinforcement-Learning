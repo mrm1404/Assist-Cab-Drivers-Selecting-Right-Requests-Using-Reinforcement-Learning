{
 "cells": [
  {
   "cell_type": "markdown",
   "metadata": {},
   "source": [
    "### Cab-Driver Agent"
   ]
  },
  {
   "cell_type": "code",
   "execution_count": 1,
   "metadata": {},
   "outputs": [],
   "source": [
    "# Importing libraries\n",
    "import pandas as pd\n",
    "import numpy as np\n",
    "import random\n",
    "import math\n",
    "import itertools\n",
    "from collections import deque\n",
    "import collections\n",
    "import pickle\n",
    "\n",
    "# for building DQN model\n",
    "from keras import layers\n",
    "from keras import Sequential\n",
    "from keras.layers import Dense, Activation, Flatten\n",
    "from tensorflow.keras.optimizers import Adam\n",
    "\n",
    "# for plotting graphs\n",
    "import matplotlib.pyplot as plt\n",
    "\n",
    "%matplotlib inline\n",
    "\n",
    "from Env import CabDriver"
   ]
  },
  {
   "cell_type": "markdown",
   "metadata": {},
   "source": [
    "#### Defining Time Matrix"
   ]
  },
  {
   "cell_type": "code",
   "execution_count": 2,
   "metadata": {},
   "outputs": [
    {
     "name": "stdout",
     "output_type": "stream",
     "text": [
      "Time matrix shape:  (5, 5, 24, 7)\n"
     ]
    }
   ],
   "source": [
    "# Loading the time matrix provided\n",
    "Time_matrix = np.load(\"TM.npy\")\n",
    "\n",
    "# checking shape of Time_matrix\n",
    "print('Time matrix shape: ', Time_matrix.shape)"
   ]
  },
  {
   "cell_type": "markdown",
   "metadata": {},
   "source": [
    "**Observation:** <br>\n",
    "**5** start location <br>\n",
    "**5** end location <br>\n",
    "**24** hours of day <br>\n",
    "**7** days of week"
   ]
  },
  {
   "cell_type": "code",
   "execution_count": 3,
   "metadata": {},
   "outputs": [
    {
     "data": {
      "text/plain": [
       "11.0"
      ]
     },
     "execution_count": 3,
     "metadata": {},
     "output_type": "execute_result"
    }
   ],
   "source": [
    "# random sample\n",
    "Time_matrix[1][2][10][5]"
   ]
  },
  {
   "cell_type": "markdown",
   "metadata": {},
   "source": [
    "**Observation:** Trip time is **11 hours**"
   ]
  },
  {
   "cell_type": "code",
   "execution_count": 4,
   "metadata": {},
   "outputs": [
    {
     "name": "stdout",
     "output_type": "stream",
     "text": [
      "Time matrix min:  0.0\n",
      "Time matrix max:  11.0\n"
     ]
    }
   ],
   "source": [
    "# Time matrix analysis min\n",
    "print('Time matrix min: ', Time_matrix.min())\n",
    "\n",
    "# Time matrix analysis max\n",
    "print ('Time matrix max: ', Time_matrix.max())"
   ]
  },
  {
   "cell_type": "markdown",
   "metadata": {},
   "source": [
    "**Observation:** A trip can be of 0-11 hours"
   ]
  },
  {
   "cell_type": "code",
   "execution_count": 5,
   "metadata": {},
   "outputs": [
    {
     "data": {
      "text/plain": [
       "2.5"
      ]
     },
     "execution_count": 5,
     "metadata": {},
     "output_type": "execute_result"
    }
   ],
   "source": [
    "# Time matrix analysis median\n",
    "np.median(Time_matrix)"
   ]
  },
  {
   "cell_type": "markdown",
   "metadata": {},
   "source": [
    "**Observation:** A typical trip is 2.5 hours"
   ]
  },
  {
   "cell_type": "code",
   "execution_count": 6,
   "metadata": {},
   "outputs": [
    {
     "data": {
      "text/plain": [
       "3.0542857142857143"
      ]
     },
     "execution_count": 6,
     "metadata": {},
     "output_type": "execute_result"
    }
   ],
   "source": [
    "# Time matrix analysis mean\n",
    "Time_matrix.mean()"
   ]
  },
  {
   "cell_type": "markdown",
   "metadata": {},
   "source": [
    "**Observation:** Mean trip time is 3 hours"
   ]
  },
  {
   "cell_type": "markdown",
   "metadata": {},
   "source": [
    "#### Tracking the state-action pairs for checking convergence\n"
   ]
  },
  {
   "cell_type": "code",
   "execution_count": 7,
   "metadata": {},
   "outputs": [
    {
     "name": "stdout",
     "output_type": "stream",
     "text": [
      "Selection action :  (1, 2)\n",
      "\n",
      "Reward:  -6  Next state:  (2, 12, 6)  Is terminal:  False\n",
      "Tracked data:  (-6, 12, 1)\n",
      "\n",
      "Reward:  -5  Next state:  (4, 1, 6)  Is terminal:  False\n",
      "Tracked data:  (-11, 14, 2)\n",
      "\n",
      "Encoded state:  (36,)\n"
     ]
    }
   ],
   "source": [
    "env = CabDriver()\n",
    "# Check requests\n",
    "actions = env.requests(env.state_init)\n",
    "\n",
    "# Select a random action\n",
    "rand_action = random.choice(actions)\n",
    "print('Selection action : ', rand_action)\n",
    "print()\n",
    "\n",
    "# Check next_state, and reward from random action\n",
    "next_state, reward, is_terminal = env.step_func(env.state_init, rand_action)\n",
    "\n",
    "print('Reward: ', reward, ' Next state: ', next_state, ' Is terminal: ', is_terminal)\n",
    "print('Tracked data: ', env.tracked_data())\n",
    "print()\n",
    "\n",
    "# Check next_state, and reward if driver did not take any requests\n",
    "next_state, reward, is_terminal = env.step_func(env.state_init,(0,0))\n",
    "print('Reward: ', reward, ' Next state: ', next_state, ' Is terminal: ', is_terminal)\n",
    "print('Tracked data: ', env.tracked_data())\n",
    "print()\n",
    "\n",
    "encoded_state = env.encode_state(env.state_init)\n",
    "print('Encoded state: ', encoded_state.shape)"
   ]
  },
  {
   "cell_type": "code",
   "execution_count": 8,
   "metadata": {},
   "outputs": [],
   "source": [
    "epi_num = []\n",
    "epi_reward = []\n",
    "epi_time = []\n",
    "epi_trips = []\n",
    "max_epi = 100\n",
    "\n",
    "env=CabDriver()\n",
    "\n",
    "for epi in range(1, max_epi+1):\n",
    "    env.reset()\n",
    "    state = env.state_init\n",
    "    is_terminal = False\n",
    "    while not is_terminal:\n",
    "        # random action selection\n",
    "        actions = env.requests(state)\n",
    "        action = random.choice(actions)\n",
    "        next_state, reward, is_terminal = env.step_func(state, action)\n",
    "        state = next_state\n",
    "    \n",
    "    reward, time, trips = env.tracked_data()\n",
    "    epi_num.append(epi)\n",
    "    epi_reward.append(reward)\n",
    "    epi_time.append(time)\n",
    "    epi_trips.append(trips)\n",
    "    \n",
    "epi_df=pd.DataFrame(data={'num':epi_num,'reward':epi_reward,'time':epi_time,'trips':epi_trips})"
   ]
  },
  {
   "cell_type": "code",
   "execution_count": 9,
   "metadata": {},
   "outputs": [
    {
     "data": {
      "text/html": [
       "<div>\n",
       "<style scoped>\n",
       "    .dataframe tbody tr th:only-of-type {\n",
       "        vertical-align: middle;\n",
       "    }\n",
       "\n",
       "    .dataframe tbody tr th {\n",
       "        vertical-align: top;\n",
       "    }\n",
       "\n",
       "    .dataframe thead th {\n",
       "        text-align: right;\n",
       "    }\n",
       "</style>\n",
       "<table border=\"1\" class=\"dataframe\">\n",
       "  <thead>\n",
       "    <tr style=\"text-align: right;\">\n",
       "      <th></th>\n",
       "      <th>num</th>\n",
       "      <th>reward</th>\n",
       "      <th>time</th>\n",
       "      <th>trips</th>\n",
       "    </tr>\n",
       "  </thead>\n",
       "  <tbody>\n",
       "    <tr>\n",
       "      <th>count</th>\n",
       "      <td>100.000000</td>\n",
       "      <td>100.000000</td>\n",
       "      <td>100.000000</td>\n",
       "      <td>100.000000</td>\n",
       "    </tr>\n",
       "    <tr>\n",
       "      <th>mean</th>\n",
       "      <td>50.500000</td>\n",
       "      <td>-126.150000</td>\n",
       "      <td>724.410000</td>\n",
       "      <td>127.760000</td>\n",
       "    </tr>\n",
       "    <tr>\n",
       "      <th>std</th>\n",
       "      <td>29.011492</td>\n",
       "      <td>175.772717</td>\n",
       "      <td>3.760762</td>\n",
       "      <td>7.929131</td>\n",
       "    </tr>\n",
       "    <tr>\n",
       "      <th>min</th>\n",
       "      <td>1.000000</td>\n",
       "      <td>-526.000000</td>\n",
       "      <td>720.000000</td>\n",
       "      <td>111.000000</td>\n",
       "    </tr>\n",
       "    <tr>\n",
       "      <th>25%</th>\n",
       "      <td>25.750000</td>\n",
       "      <td>-245.250000</td>\n",
       "      <td>721.750000</td>\n",
       "      <td>121.750000</td>\n",
       "    </tr>\n",
       "    <tr>\n",
       "      <th>50%</th>\n",
       "      <td>50.500000</td>\n",
       "      <td>-131.000000</td>\n",
       "      <td>723.000000</td>\n",
       "      <td>128.000000</td>\n",
       "    </tr>\n",
       "    <tr>\n",
       "      <th>75%</th>\n",
       "      <td>75.250000</td>\n",
       "      <td>-1.500000</td>\n",
       "      <td>727.000000</td>\n",
       "      <td>133.250000</td>\n",
       "    </tr>\n",
       "    <tr>\n",
       "      <th>max</th>\n",
       "      <td>100.000000</td>\n",
       "      <td>380.000000</td>\n",
       "      <td>735.000000</td>\n",
       "      <td>156.000000</td>\n",
       "    </tr>\n",
       "  </tbody>\n",
       "</table>\n",
       "</div>"
      ],
      "text/plain": [
       "              num      reward        time       trips\n",
       "count  100.000000  100.000000  100.000000  100.000000\n",
       "mean    50.500000 -126.150000  724.410000  127.760000\n",
       "std     29.011492  175.772717    3.760762    7.929131\n",
       "min      1.000000 -526.000000  720.000000  111.000000\n",
       "25%     25.750000 -245.250000  721.750000  121.750000\n",
       "50%     50.500000 -131.000000  723.000000  128.000000\n",
       "75%     75.250000   -1.500000  727.000000  133.250000\n",
       "max    100.000000  380.000000  735.000000  156.000000"
      ]
     },
     "execution_count": 9,
     "metadata": {},
     "output_type": "execute_result"
    }
   ],
   "source": [
    "epi_df.describe()"
   ]
  },
  {
   "cell_type": "code",
   "execution_count": 10,
   "metadata": {},
   "outputs": [
    {
     "data": {
      "text/plain": [
       "<AxesSubplot:xlabel='num'>"
      ]
     },
     "execution_count": 10,
     "metadata": {},
     "output_type": "execute_result"
    },
    {
     "data": {
      "image/png": "[encoded data removed]",
      "text/plain": [
       "<Figure size 432x288 with 1 Axes>"
      ]
     },
     "metadata": {
      "needs_background": "light"
     },
     "output_type": "display_data"
    },
    {
     "data": {
      "image/png": "[encoded data removed]",
      "text/plain": [
       "<Figure size 432x288 with 1 Axes>"
      ]
     },
     "metadata": {
      "needs_background": "light"
     },
     "output_type": "display_data"
    },
    {
     "data": {
      "image/png": "[encoded data removed]",
      "text/plain": [
       "<Figure size 432x288 with 1 Axes>"
      ]
     },
     "metadata": {
      "needs_background": "light"
     },
     "output_type": "display_data"
    }
   ],
   "source": [
    "# Plot epi vs tracked data\n",
    "epi_df.plot(x='num',y='reward')\n",
    "epi_df.plot(x='num',y='time')\n",
    "epi_df.plot(x='num',y='trips')"
   ]
  },
  {
   "cell_type": "markdown",
   "metadata": {},
   "source": [
    "### Agent Class\n",
    "\n",
    "If you are using this framework, you need to fill the following to complete the following code block:\n",
    "1. State and Action Size\n",
    "2. Hyperparameters\n",
    "3. Create a neural-network model in function 'build_model()'\n",
    "4. Define epsilon-greedy strategy in function 'get_action()'\n",
    "5. Complete the function 'append_sample()'. This function appends the recent experience tuple <state, action, reward, new-state> to the memory\n",
    "6. Complete the 'train_model()' function with following logic:\n",
    "   - If the memory size is greater than mini-batch size, you randomly sample experiences from memory as per the mini-batch size and do the following:\n",
    "      - Initialise your input and output batch for training the model\n",
    "      - Calculate the target Q value for each sample: reward + gamma*max(Q(s'a,))\n",
    "      - Get Q(s', a) values from the last trained model\n",
    "      - Update the input batch as your encoded state-action and output batch as your Q-values\n",
    "      - Then fit your DQN model using the updated input and output batch."
   ]
  },
  {
   "cell_type": "code",
   "execution_count": 41,
   "metadata": {},
   "outputs": [],
   "source": [
    "def save_obj(obj, name):\n",
    "    with open(name + '.pkl', 'wb') as f:\n",
    "        pickle.dump(obj, f, pickle.HIGHEST_PROTOCOL)"
   ]
  },
  {
   "cell_type": "code",
   "execution_count": 46,
   "metadata": {},
   "outputs": [],
   "source": [
    "class DQNAgent:\n",
    "    def __init__(self, state_size=None, action_size=None, discount_factor=0.95, learning_rate=0.01, epsilon_min=0., epsilon_max=1., epsilon_decay=-0.0001, batch_size=32, experience_buffer_size=2000, env=CabDriver(), state_encoding='v1'):\n",
    "        # Define size of state and action\n",
    "        \n",
    "        if state_size is not None:\n",
    "            self.state_size = state_size\n",
    "        else:\n",
    "            self.state_size = env.state_size\n",
    "\n",
    "        if action_size is not None:\n",
    "            self.action_size = action_size\n",
    "        else:\n",
    "            self.action_size = len(env.action_space)\n",
    "\n",
    "        self.state_encoding = state_encoding\n",
    "        self.discount_factor = discount_factor\n",
    "        self.learning_rate = learning_rate \n",
    "        self.epsilon_min = epsilon_min\n",
    "        self.epsilon_max = epsilon_max\n",
    "        self.epsilon = epsilon_max\n",
    "        self.epsilon_decay = epsilon_decay\n",
    "        self.trip = 0\n",
    "        \n",
    "        self.batch_size = batch_size        \n",
    "        # create replay memory using deque\n",
    "        self.memory = deque(maxlen=experience_buffer_size)\n",
    "        \n",
    "        self.env = env\n",
    "        \n",
    "        # create main model and target model\n",
    "        self.model = self.build_model()\n",
    "        self.target_model = self.build_model()\n",
    "        \n",
    "        # initialize target model\n",
    "        self.update_target_model()\n",
    "\n",
    "    # approximate Q function using Neural Network\n",
    "    def build_model(self):\n",
    "\n",
    "        model = Sequential()\n",
    "\n",
    "        # hidden layers\n",
    "        model.add(Dense(32, input_dim=self.state_size, activation='relu', kernel_initializer='he_uniform'))\n",
    "        model.add(Dense(32, activation='relu', kernel_initializer='he_uniform'))\n",
    "        model.add(Dense(self.action_size, activation='relu', kernel_initializer='he_uniform'))\n",
    "\n",
    "        model.compile(loss='mse', optimizer=Adam(learning_rate=self.learning_rate))\n",
    "\n",
    "        return model\n",
    "\n",
    "    # after some time interval update the target model to be same with model\n",
    "    def update_target_model(self):\n",
    "        self.target_model.set_weights(self.model.get_weights())\n",
    "\n",
    "    def get_action(self, state):\n",
    "        \"\"\"\n",
    "        get action in a state according to an epsilon-greedy approach\n",
    "        \"\"\"\n",
    "        if np.random.rand() <= self.epsilon:\n",
    "            # random action selection\n",
    "            actions = self.env.requests(state)\n",
    "            action = random.choice(actions)\n",
    "        else:\n",
    "            # choose the action with the highest q(s, a)\n",
    "            encoded_state = self.env.encode_state(state)\n",
    "            # the first index corresponds to the batch size, so reshape state to (1, state_size) so that the first index corresponds to the batch size\n",
    "            encoded_state = encoded_state.reshape(1, self.state_size)\n",
    "            q_value = self.model.predict(encoded_state)\n",
    "            action = self.env.action_space[np.argmax(q_value[0])]\n",
    "\n",
    "        return action\n",
    "      \n",
    "    def get_q_value(self, state, action):\n",
    "        encoded_state = self.env.encode_state(state)\n",
    "        encoded_state = encoded_state.reshape(1, self.state_size)\n",
    "        q_value = self.model.predict(encoded_state)\n",
    "        action_index = self.env.action_space.index(action)\n",
    "        return q_value[0][action_index]\n",
    "\n",
    "    def append_sample(self, state, action, reward, next_state, is_terminal):\n",
    "        self.memory.append((state, action, reward, next_state, is_terminal))\n",
    "        \n",
    "    def decay_epsilon(self):\n",
    "        # Decay in ε after we generate each sample from the environment       \n",
    "        self.trip = self.trip + 1\n",
    "        self.epsilon = self.epsilon_min + (self.epsilon_max - self.epsilon_min) * np.exp(self.epsilon_decay * self.trip)\n",
    "   \n",
    "    # pick samples randomly from replay memory (with batch_size) and train the network\n",
    "    def train_model(self):\n",
    "        \"\"\"\n",
    "        train the neural network on a minibatch. Input to the network is the states,\n",
    "        output is the target q-value corresponding to each action.\n",
    "        \"\"\"\n",
    "        if len(self.memory) >= self.batch_size:\n",
    "            # Sample batch from the memory\n",
    "            mini_batch = random.sample(self.memory, self.batch_size)\n",
    "            \n",
    "            update_input = np.zeros((self.batch_size, self.state_size))\n",
    "            update_target = np.zeros((self.batch_size, self.state_size))\n",
    "            action, reward, is_terminal = [], [], []\n",
    "            \n",
    "            for i in range(self.batch_size):\n",
    "                update_input[i] = self.env.encode_state(mini_batch[i][0])\n",
    "                update_target[i] = self.env.encode_state(mini_batch[i][3])\n",
    "                action.append(mini_batch[i][1])\n",
    "                reward.append(mini_batch[i][2])\n",
    "                is_terminal.append(mini_batch[i][4])\n",
    " \n",
    "            # predict the target q-values from states s\n",
    "            target = self.model.predict(update_input)\n",
    "\n",
    "            # target for q-network\n",
    "            target_qval = self.target_model.predict(update_target)\n",
    "\n",
    "            # update the target values\n",
    "            for i in range(self.batch_size):\n",
    "                action_index = self.env.action_space.index(action[i])\n",
    "                if is_terminal[i]:\n",
    "                    target[i][action_index] = reward[i]\n",
    "                else:\n",
    "                    target[i][action_index] = reward[i] + self.discount_factor * (np.amax(target_qval[i]))\n",
    "\n",
    "            # model fit\n",
    "            self.model.fit(update_input, target, batch_size=self.batch_size, epochs=1, verbose=0)\n",
    "\n",
    "    def save(self, name):\n",
    "        self.model.save(name + '.hd5')\n",
    "        weights = self.model.get_weights()   # Gets model_weights as a list of numpy arrays\n",
    "        try:\n",
    "            fpkl = open(name + '.pkl', 'wb')\n",
    "            pickle.dump(weights, fpkl, protocol= pickle.HIGHEST_PROTOCOL)  \n",
    "            fpkl.close()\n",
    "        except Exception as e:\n",
    "            print(e)"
   ]
  },
  {
   "cell_type": "markdown",
   "metadata": {},
   "source": [
    "### DQN block"
   ]
  },
  {
   "cell_type": "code",
   "execution_count": 44,
   "metadata": {},
   "outputs": [],
   "source": [
    "rewards, trips, times, episodes = [], [], [], []\n",
    "samples = {}\n",
    "\n",
    "def train_agent(max_epi=100, model_name='model', print_epi=10, save_epi=100, **agent_args):\n",
    "    env = CabDriver()\n",
    "    agent = DQNAgent(**agent_args)\n",
    "    \n",
    "    # randomly sample 2 of state-action pairs for tracking convergence\n",
    "    to_sample = random.sample([(state,action) for state,action in itertools.product(env.state_space, env.action_space)], 10)\n",
    "    for state,action in to_sample:\n",
    "        samples.update({(state,action):[]})\n",
    "\n",
    "    for epi in range(max_epi):    \n",
    "        is_terminal = False\n",
    "        reward = 0\n",
    "        state = env.reset()\n",
    "        rewards_arr = []\n",
    "\n",
    "        while not is_terminal:\n",
    "            # Write your code here\n",
    "            # 1. Pick epsilon-greedy action from possible actions for the current state\n",
    "            # 2. Evaluate your reward and next state\n",
    "            # 3. Append the experience to the memory\n",
    "            # 4. Train the model by calling function agent.train_model\n",
    "            # 5. Keep a track of rewards, Q-values, loss\n",
    "\n",
    "            # get action for the current state and go one step in environment\n",
    "            action = agent.get_action(state)\n",
    "            next_state, reward, is_terminal = env.step_func(state, action)\n",
    "            rewards_arr.append(reward)\n",
    "            agent.append_sample(state, action, reward, next_state, is_terminal)\n",
    "            agent.decay_epsilon()\n",
    "            agent.train_model()\n",
    "            \n",
    "            if (state,action) in to_sample:\n",
    "                q_value = agent.get_q_value(state, action)\n",
    "                samples[(state,action)].append(q_value)\n",
    "\n",
    "            state = next_state\n",
    "\n",
    "        agent.update_target_model()\n",
    "        epi_reward, epi_time, epi_trips = env.tracked_data()\n",
    "        rewards.append(epi_reward)\n",
    "        trips.append(epi_trips)\n",
    "        times.append(epi_time)\n",
    "        episodes.append(epi)\n",
    "\n",
    "        if (epi % print_epi == 0)  | (epi == max_epi-1):\n",
    "            print(\"Episode:\", epi, \"  Reward:\", epi_reward, \"  Trips:\", epi_trips, \" Time:\", epi_time, \"  Memory:\", len(agent.memory), \"  Total trips:\", agent.trip, \"  Epsilon:\", agent.epsilon)\n",
    "\n",
    "        if epi % save_epi == 0:\n",
    "            agent.save(model_name)\n",
    "\n",
    "    agent.save(model_name)\n",
    "    return agent"
   ]
  },
  {
   "cell_type": "code",
   "execution_count": 16,
   "metadata": {},
   "outputs": [
    {
     "name": "stdout",
     "output_type": "stream",
     "text": [
      "Episode: 0   Reward: -157   Trips: 130  Time: 725   Memory: 130   Total trips: 130   Epsilon: 0.9935210793034477\n",
      "INFO:tensorflow:Assets written to: test.hd5\\assets\n",
      "INFO:tensorflow:Assets written to: test.hd5\\assets\n"
     ]
    }
   ],
   "source": [
    "rewards, trips, times, episodes = [], [], [], []\n",
    "samples = {}\n",
    "train_agent(max_epi=1, model_name='test.hd5', epsilon_decay=-0.00005)"
   ]
  },
  {
   "cell_type": "code",
   "execution_count": 17,
   "metadata": {},
   "outputs": [
    {
     "name": "stdout",
     "output_type": "stream",
     "text": [
      "Episode: 0   Reward: -441   Trips: 125  Time: 725   Memory: 125   Total trips: 125   Epsilon: 0.9394130628134758\n",
      "INFO:tensorflow:Assets written to: model_0.hd5\\assets\n",
      "Episode: 10   Reward: 1072   Trips: 117  Time: 723   Memory: 1351   Total trips: 1351   Epsilon: 0.5089019060311919\n",
      "Episode: 20   Reward: 1099   Trips: 105  Time: 726   Memory: 2000   Total trips: 2469   Epsilon: 0.29098021610944064\n",
      "Episode: 30   Reward: 1546   Trips: 103  Time: 721   Memory: 2000   Total trips: 3563   Epsilon: 0.16838537967078487\n",
      "Episode: 40   Reward: 1638   Trips: 102  Time: 721   Memory: 2000   Total trips: 4652   Epsilon: 0.09768570948272756\n",
      "Episode: 49   Reward: 1775   Trips: 100  Time: 720   Memory: 2000   Total trips: 5631   Epsilon: 0.0598747738675841\n",
      "INFO:tensorflow:Assets written to: model_0.hd5\\assets\n"
     ]
    }
   ],
   "source": [
    "rewards, trips, times, episodes = [], [], [], []\n",
    "samples = {}\n",
    "train_agent(max_epi=50, model_name='model_0.hd5', epsilon_decay=-0.0005)"
   ]
  },
  {
   "cell_type": "code",
   "execution_count": 18,
   "metadata": {},
   "outputs": [
    {
     "name": "stdout",
     "output_type": "stream",
     "text": [
      "Episode: 0   Reward: -217   Trips: 128  Time: 730   Memory: 128   Total trips: 128   Epsilon: 0.9872815715902905\n",
      "INFO:tensorflow:Assets written to: model_1.hd5\\assets\n",
      "Episode: 10   Reward: 105   Trips: 122  Time: 720   Memory: 1403   Total trips: 1403   Epsilon: 0.8690974670453949\n",
      "Episode: 20   Reward: -37   Trips: 121  Time: 722   Memory: 2000   Total trips: 2658   Epsilon: 0.7665924306563239\n",
      "Episode: 30   Reward: 83   Trips: 119  Time: 729   Memory: 2000   Total trips: 3885   Epsilon: 0.6780732218798831\n",
      "Episode: 40   Reward: 208   Trips: 127  Time: 725   Memory: 2000   Total trips: 5104   Epsilon: 0.6002554286139826\n",
      "Episode: 49   Reward: 413   Trips: 111  Time: 720   Memory: 2000   Total trips: 6187   Epsilon: 0.5386442201236387\n",
      "INFO:tensorflow:Assets written to: model_1.hd5\\assets\n"
     ]
    }
   ],
   "source": [
    "rewards, trips, times, episodes = [], [], [], []\n",
    "samples = {}\n",
    "train_agent(max_epi=50, model_name='model_1.hd5', epsilon_decay=-0.0001)"
   ]
  },
  {
   "cell_type": "code",
   "execution_count": 19,
   "metadata": {},
   "outputs": [
    {
     "name": "stdout",
     "output_type": "stream",
     "text": [
      "Episode: 0   Reward: -217   Trips: 133  Time: 720   Memory: 133   Total trips: 133   Epsilon: 0.9867880541941261\n",
      "INFO:tensorflow:Assets written to: model_2.hd5\\assets\n",
      "Episode: 10   Reward: 214   Trips: 124  Time: 720   Memory: 1378   Total trips: 1378   Epsilon: 0.8712729289072828\n",
      "Episode: 20   Reward: 155   Trips: 114  Time: 723   Memory: 2000   Total trips: 2607   Epsilon: 0.7705120385570716\n",
      "Episode: 30   Reward: 90   Trips: 130  Time: 728   Memory: 2000   Total trips: 3840   Epsilon: 0.6811314271795471\n",
      "Episode: 40   Reward: 311   Trips: 121  Time: 723   Memory: 2000   Total trips: 5090   Epsilon: 0.6010963747389753\n",
      "Episode: 49   Reward: 561   Trips: 124  Time: 723   Memory: 2000   Total trips: 6214   Epsilon: 0.537191842321657\n",
      "INFO:tensorflow:Assets written to: model_2.hd5\\assets\n"
     ]
    }
   ],
   "source": [
    "rewards, trips, times, episodes = [], [], [], []\n",
    "samples = {}\n",
    "train_agent(max_epi=50, model_name='model_2.hd5', epsilon_max=1.0, epsilon_decay=-0.0001, epsilon_min=0.0)"
   ]
  },
  {
   "cell_type": "code",
   "execution_count": 20,
   "metadata": {},
   "outputs": [
    {
     "name": "stdout",
     "output_type": "stream",
     "text": [
      "Episode: 0   Reward: 85   Trips: 135  Time: 721   Memory: 135   Total trips: 135   Epsilon: 0.9865907163177327\n",
      "INFO:tensorflow:Assets written to: model_3.hd5\\assets\n",
      "Episode: 10   Reward: 120   Trips: 131  Time: 720   Memory: 1357   Total trips: 1357   Epsilon: 0.8731045245603125\n",
      "Episode: 20   Reward: -279   Trips: 122  Time: 727   Memory: 2000   Total trips: 2595   Epsilon: 0.7714372079939819\n",
      "Episode: 30   Reward: 283   Trips: 115  Time: 724   Memory: 2000   Total trips: 3808   Epsilon: 0.6833145388622924\n",
      "Episode: 40   Reward: 266   Trips: 102  Time: 725   Memory: 2000   Total trips: 4954   Epsilon: 0.6093271276925619\n",
      "Episode: 49   Reward: 469   Trips: 125  Time: 724   Memory: 2000   Total trips: 6024   Epsilon: 0.547496067481209\n",
      "INFO:tensorflow:Assets written to: model_3.hd5\\assets\n"
     ]
    }
   ],
   "source": [
    "rewards, trips, times, episodes = [], [], [], []\n",
    "samples = {}\n",
    "train_agent(max_epi=50, model_name='model_3.hd5', learning_rate=0.01, epsilon_max=1.0, epsilon_decay=-0.0001, epsilon_min=0.0)"
   ]
  },
  {
   "cell_type": "code",
   "execution_count": 21,
   "metadata": {},
   "outputs": [
    {
     "name": "stdout",
     "output_type": "stream",
     "text": [
      "Episode: 0   Reward: -335   Trips: 131  Time: 726   Memory: 131   Total trips: 131   Epsilon: 0.9869854315420418\n",
      "INFO:tensorflow:Assets written to: model_4.hd5\\assets\n",
      "Episode: 10   Reward: 267   Trips: 123  Time: 720   Memory: 1363   Total trips: 1363   Epsilon: 0.8725808189729637\n",
      "Episode: 20   Reward: 214   Trips: 140  Time: 726   Memory: 2000   Total trips: 2596   Epsilon: 0.7713600681302399\n",
      "Episode: 30   Reward: 489   Trips: 114  Time: 721   Memory: 2000   Total trips: 3828   Epsilon: 0.6819492755030149\n",
      "Episode: 40   Reward: 416   Trips: 109  Time: 720   Memory: 2000   Total trips: 5034   Epsilon: 0.6044719572470183\n",
      "Episode: 49   Reward: 661   Trips: 121  Time: 723   Memory: 2000   Total trips: 6139   Epsilon: 0.5412359275018637\n",
      "INFO:tensorflow:Assets written to: model_4.hd5\\assets\n"
     ]
    }
   ],
   "source": [
    "rewards, trips, times, episodes = [], [], [], []\n",
    "samples = {}\n",
    "train_agent(max_epi=50, model_name='model_4.hd5', discount_factor=0.95, learning_rate=0.01, epsilon_max=1.0, epsilon_decay=-0.0001, epsilon_min=0.0)"
   ]
  },
  {
   "cell_type": "code",
   "execution_count": 22,
   "metadata": {},
   "outputs": [
    {
     "name": "stdout",
     "output_type": "stream",
     "text": [
      "Episode: 0   Reward: 2   Trips: 127  Time: 722   Memory: 127   Total trips: 127   Epsilon: 0.9873803046840219\n",
      "INFO:tensorflow:Assets written to: model_5.hd5\\assets\n",
      "Episode: 10   Reward: 187   Trips: 145  Time: 720   Memory: 1395   Total trips: 1395   Epsilon: 0.8697930232043986\n",
      "Episode: 20   Reward: 330   Trips: 121  Time: 723   Memory: 2000   Total trips: 2589   Epsilon: 0.7719002092052516\n",
      "Episode: 30   Reward: 390   Trips: 106  Time: 721   Memory: 2000   Total trips: 3792   Epsilon: 0.6844087172337445\n",
      "Episode: 40   Reward: 392   Trips: 123  Time: 723   Memory: 2000   Total trips: 5013   Epsilon: 0.6057426821513953\n",
      "Episode: 49   Reward: 534   Trips: 118  Time: 727   Memory: 2000   Total trips: 6096   Epsilon: 0.5435682528959954\n",
      "INFO:tensorflow:Assets written to: model_5.hd5\\assets\n"
     ]
    }
   ],
   "source": [
    "rewards, trips, times, episodes = [], [], [], []\n",
    "samples = {}\n",
    "train_agent(max_epi=50, model_name='model_5.hd5', learning_rate=0.005, epsilon_max=1.0, epsilon_decay=-0.0001, epsilon_min=0.0)"
   ]
  },
  {
   "cell_type": "code",
   "execution_count": 23,
   "metadata": {},
   "outputs": [
    {
     "name": "stdout",
     "output_type": "stream",
     "text": [
      "Episode: 0   Reward: -223   Trips: 122  Time: 722   Memory: 122   Total trips: 122   Epsilon: 0.993918567227454\n",
      "INFO:tensorflow:Assets written to: model_6.hd5\\assets\n",
      "Episode: 10   Reward: 137   Trips: 132  Time: 722   Memory: 1381   Total trips: 1381   Epsilon: 0.933280014910837\n",
      "Episode: 20   Reward: 15   Trips: 129  Time: 733   Memory: 2000   Total trips: 2667   Epsilon: 0.8751587329425146\n",
      "Episode: 30   Reward: 75   Trips: 125  Time: 720   Memory: 2000   Total trips: 3890   Epsilon: 0.8232461782565231\n",
      "Episode: 40   Reward: 310   Trips: 114  Time: 722   Memory: 2000   Total trips: 5104   Epsilon: 0.7747615301587855\n",
      "Episode: 49   Reward: 680   Trips: 125  Time: 730   Memory: 2000   Total trips: 6188   Epsilon: 0.733887156444884\n",
      "INFO:tensorflow:Assets written to: model_6.hd5\\assets\n"
     ]
    }
   ],
   "source": [
    "rewards, trips, times, episodes = [], [], [], []\n",
    "samples = {}\n",
    "train_agent(max_epi=50, model_name='model_6.hd5', learning_rate=0.0005, epsilon_max=1.0, epsilon_decay=-0.00005, epsilon_min=0.0)"
   ]
  },
  {
   "cell_type": "code",
   "execution_count": 47,
   "metadata": {},
   "outputs": [
    {
     "name": "stdout",
     "output_type": "stream",
     "text": [
      "Episode: 0   Reward: 202   Trips: 117  Time: 731   Memory: 117   Total trips: 117   Epsilon: 0.9431782403996666\n",
      "INFO:tensorflow:Assets written to: model_final.hd5\\assets\n",
      "Episode: 20   Reward: 1579   Trips: 108  Time: 730   Memory: 2000   Total trips: 2503   Epsilon: 0.28607536182169774\n",
      "INFO:tensorflow:Assets written to: model_final.hd5\\assets\n",
      "Episode: 40   Reward: 1922   Trips: 116  Time: 722   Memory: 2000   Total trips: 4744   Epsilon: 0.09329395166237625\n",
      "INFO:tensorflow:Assets written to: model_final.hd5\\assets\n",
      "Episode: 60   Reward: 2008   Trips: 114  Time: 728   Memory: 2000   Total trips: 6971   Epsilon: 0.0306384353810723\n",
      "INFO:tensorflow:Assets written to: model_final.hd5\\assets\n",
      "Episode: 80   Reward: 1962   Trips: 106  Time: 725   Memory: 2000   Total trips: 9157   Epsilon: 0.010270290183377506\n",
      "INFO:tensorflow:Assets written to: model_final.hd5\\assets\n",
      "Episode: 100   Reward: 2009   Trips: 103  Time: 721   Memory: 2000   Total trips: 11367   Epsilon: 0.003401631872517619\n",
      "INFO:tensorflow:Assets written to: model_final.hd5\\assets\n",
      "Episode: 120   Reward: 2018   Trips: 109  Time: 726   Memory: 2000   Total trips: 13437   Epsilon: 0.0012083493793133995\n",
      "INFO:tensorflow:Assets written to: model_final.hd5\\assets\n",
      "Episode: 140   Reward: 2304   Trips: 104  Time: 722   Memory: 2000   Total trips: 15386   Epsilon: 0.00045600809336497085\n",
      "INFO:tensorflow:Assets written to: model_final.hd5\\assets\n",
      "Episode: 160   Reward: 2532   Trips: 97  Time: 723   Memory: 2000   Total trips: 17541   Epsilon: 0.0001552459382707774\n",
      "INFO:tensorflow:Assets written to: model_final.hd5\\assets\n",
      "Episode: 180   Reward: 2502   Trips: 100  Time: 721   Memory: 2000   Total trips: 19546   Epsilon: 5.696918786835684e-05\n",
      "INFO:tensorflow:Assets written to: model_final.hd5\\assets\n",
      "Episode: 199   Reward: 2060   Trips: 102  Time: 724   Memory: 2000   Total trips: 21474   Epsilon: 2.172601863988868e-05\n",
      "INFO:tensorflow:Assets written to: model_final.hd5\\assets\n"
     ]
    }
   ],
   "source": [
    "rewards, trips, times, episodes = [], [], [], []\n",
    "samples = {}\n",
    "final_agent = train_agent(max_epi=200, print_epi=20, save_epi=20, model_name='model_final', epsilon_decay=-0.0005)"
   ]
  },
  {
   "cell_type": "code",
   "execution_count": 48,
   "metadata": {},
   "outputs": [
    {
     "data": {
      "text/plain": [
       "[array([[-1.3043703 ,  2.1021414 , -0.1454047 , ...,  2.0372865 ,\n",
       "         -1.1815995 ,  2.3868425 ],\n",
       "        [ 1.8359712 , -1.8946917 , -0.7623138 , ...,  2.808374  ,\n",
       "         -0.7270141 , -1.3510149 ],\n",
       "        [-0.419362  ,  0.27961168,  1.0949603 , ..., -2.4836235 ,\n",
       "         -1.3438104 , -0.9794563 ],\n",
       "        ...,\n",
       "        [ 0.610545  ,  1.3320904 , -1.009182  , ..., -1.8002667 ,\n",
       "          1.7671497 ,  0.74464554],\n",
       "        [ 0.06631224,  1.3481518 ,  0.9066121 , ...,  0.80843353,\n",
       "          0.48767546, -0.6929088 ],\n",
       "        [-2.0563128 ,  1.3507489 , -0.20560244, ..., -0.5286011 ,\n",
       "          0.37367216,  1.4248018 ]], dtype=float32),\n",
       " array([-0.7420716 ,  1.2724153 ,  0.22826964,  1.2757838 ,  0.8388585 ,\n",
       "         1.0699539 ,  0.19082284, -0.3750578 ,  0.41994667, -0.22874103,\n",
       "         0.17484555,  0.5792109 , -0.6823737 ,  0.14867379, -1.1284057 ,\n",
       "         0.46454826, -0.45420486, -0.40119046, -0.0757885 , -0.6995245 ,\n",
       "        -0.44194114,  1.0654436 ,  0.40248725,  0.28599182, -0.27499646,\n",
       "         0.49531296,  0.16210002, -0.02547139, -0.8712939 ,  0.18473868,\n",
       "        -0.13739033, -0.20742902], dtype=float32),\n",
       " array([[ 0.8893936 , -2.25567   , -0.4269525 , ..., -0.43066713,\n",
       "         -1.5146431 ,  1.3347915 ],\n",
       "        [ 0.48344168, -2.2993748 ,  0.27566805, ..., -0.11472616,\n",
       "          2.522389  , -1.7678316 ],\n",
       "        [ 0.19270433,  0.28738526, -0.5362489 , ..., -0.00669834,\n",
       "          0.20040096,  0.838215  ],\n",
       "        ...,\n",
       "        [ 1.4266535 , -0.23503928,  2.318486  , ..., -0.07419451,\n",
       "         -2.6492512 ,  2.8744056 ],\n",
       "        [ 1.0345867 , -1.6894065 ,  0.19584486, ...,  0.0191262 ,\n",
       "          1.2413633 , -0.755709  ],\n",
       "        [ 1.2246927 , -1.2574353 ,  0.03178186, ...,  0.09068663,\n",
       "          0.84213626,  2.794347  ]], dtype=float32),\n",
       " array([ 3.74043   ,  1.2849039 ,  2.1966984 ,  1.8532548 ,  3.4026613 ,\n",
       "         1.461035  ,  1.5111967 ,  2.4746828 ,  3.767986  ,  2.6878393 ,\n",
       "         1.1872578 ,  2.0818925 ,  2.4218128 ,  1.8112963 ,  2.0133185 ,\n",
       "         2.69672   ,  2.9686067 ,  1.4758444 ,  1.3676497 ,  0.74551564,\n",
       "         1.2469418 ,  1.772314  , -0.21396   ,  1.7179223 ,  2.2624302 ,\n",
       "         3.4573007 ,  0.96789205,  1.4498439 ,  3.5984304 , -0.40956286,\n",
       "         3.4472039 ,  1.7619195 ], dtype=float32),\n",
       " array([[ 9.77105379e-01,  2.22461700e+00,  5.52765906e-01,\n",
       "          1.50940943e+00,  1.70238709e+00,  1.29114640e+00,\n",
       "         -5.15453637e-01, -4.07423854e-01,  8.76629829e-01,\n",
       "          1.10708034e+00,  1.82599282e+00, -2.70477772e-01,\n",
       "          2.78981477e-01,  7.92705297e-01,  1.61311734e+00,\n",
       "         -9.84549373e-02,  1.46164715e+00,  1.05889845e+00,\n",
       "         -2.01641262e-01,  1.03742611e+00,  2.15138292e+00],\n",
       "        [ 2.93639660e+00,  1.75512838e+00,  1.01424778e+00,\n",
       "          1.79652050e-01,  1.69428301e+00,  1.18686877e-01,\n",
       "         -1.48493111e-01,  5.79547584e-02,  2.84498334e+00,\n",
       "          5.02829492e-01, -5.30447602e-01,  2.98159093e-01,\n",
       "          1.20535955e-01,  4.07792538e-01,  1.47470045e+00,\n",
       "         -3.25307429e-01, -4.55995798e-01, -6.52323306e-01,\n",
       "          1.21384390e-01, -4.24533939e+00, -5.81391931e-01],\n",
       "        [ 1.45409250e+00,  1.37428761e+00,  2.20995975e+00,\n",
       "          3.72230113e-01,  1.55706263e+00, -2.57336080e-01,\n",
       "          4.11840938e-02, -3.33297014e-01,  3.56027305e-01,\n",
       "          5.23107171e-01, -1.11568558e+00, -4.94104065e-02,\n",
       "          5.75317703e-02,  4.82356489e-01,  9.55149770e-01,\n",
       "          2.96923574e-02,  2.37845087e+00,  1.23450744e+00,\n",
       "         -4.68886942e-01, -8.33776236e-01,  1.41510010e+00],\n",
       "        [-4.61630535e+00,  1.30835101e-01, -3.30879164e+00,\n",
       "         -1.49721169e+00,  1.37242958e-01,  2.80542111e+00,\n",
       "          2.03148887e-01,  2.91556984e-01,  6.23674430e-02,\n",
       "          2.18480372e+00,  5.41914225e-01,  2.09624916e-01,\n",
       "          1.72347888e-01,  8.16619456e-01,  6.31541550e-01,\n",
       "         -4.30737406e-01,  2.03967667e+00, -2.34426737e-01,\n",
       "          1.05315037e-02, -2.97052240e+00, -2.79727697e-01],\n",
       "        [ 1.28286922e+00,  1.99855208e+00, -1.75209850e-01,\n",
       "          8.35426152e-01,  1.34751058e+00,  1.27082872e+00,\n",
       "         -4.59750623e-01,  8.18096101e-02,  9.32607234e-01,\n",
       "          1.29287684e+00,  1.32529259e+00, -3.95477593e-01,\n",
       "         -4.73465264e-01,  9.49736595e-01,  1.60260212e+00,\n",
       "          6.79898858e-02,  1.25414002e+00,  1.33171451e+00,\n",
       "         -4.43997383e-01,  1.19045043e+00,  1.68366063e+00],\n",
       "        [ 2.78314877e+00, -1.55567586e-01, -2.34139538e+00,\n",
       "          3.00493509e-01,  8.10806811e-01,  1.33282900e+00,\n",
       "         -2.09926859e-01,  2.43003815e-01,  1.94472194e-01,\n",
       "         -2.35188270e+00,  2.01160431e-01, -1.43530071e-01,\n",
       "         -2.91071236e-01,  9.28160071e-01,  9.78564084e-01,\n",
       "          2.46862262e-01,  2.33970642e+00,  1.81661415e+00,\n",
       "         -1.87873900e-01, -9.06534255e-01,  5.51738203e-01],\n",
       "        [ 1.47082373e-01,  1.57656360e+00,  5.41025162e-01,\n",
       "          3.13106585e+00, -3.98085308e+00,  1.67405665e+00,\n",
       "          5.40697396e-01, -3.03796679e-01, -1.52469254e+00,\n",
       "          1.78310299e+00, -1.81388795e+00,  8.69167298e-02,\n",
       "          8.35565403e-02,  1.16617465e+00, -4.43540955e+00,\n",
       "          3.22974384e-01,  1.92840800e-01,  1.25133121e+00,\n",
       "         -2.68136203e-01, -9.76047754e-01,  1.16021276e+00],\n",
       "        [ 7.61600852e-01,  1.18743169e+00,  1.99872166e-01,\n",
       "          1.69802487e+00, -1.29664075e+00,  1.07560205e+00,\n",
       "         -4.85416025e-01, -2.51592904e-01,  1.56559682e+00,\n",
       "          1.01101184e+00,  1.15871155e+00,  1.51830211e-01,\n",
       "          1.73049226e-01,  8.92656505e-01,  5.67740142e-01,\n",
       "          3.99789289e-02,  4.84691471e-01,  6.95152581e-01,\n",
       "         -2.31321946e-01,  1.21015429e+00,  5.04439592e-01],\n",
       "        [ 1.48342931e+00,  1.48272097e+00,  2.07302034e-01,\n",
       "          1.00872016e+00,  1.47802138e+00,  7.07712591e-01,\n",
       "          2.33029008e-01, -4.17984724e-01,  1.59066391e+00,\n",
       "          2.03039861e+00,  1.28755128e+00, -6.40760437e-02,\n",
       "          6.80571795e-02,  9.65393364e-01,  1.84937227e+00,\n",
       "         -2.55116314e-01,  5.06780207e-01,  1.83835375e+00,\n",
       "          1.75449073e-01,  1.46826959e+00,  1.22672629e+00],\n",
       "        [ 1.20940232e+00, -6.74894571e-01,  4.23682547e+00,\n",
       "          1.73590374e+00,  2.07081056e+00,  2.49666125e-01,\n",
       "         -1.89899988e-02, -3.69047821e-01,  8.07386041e-01,\n",
       "         -4.42055970e-01,  1.53310883e+00,  5.90771139e-02,\n",
       "         -4.18753445e-01,  1.42351043e+00, -1.96068123e-01,\n",
       "          2.65500635e-01,  2.22756457e+00,  1.39682889e-01,\n",
       "         -5.00561357e-01,  2.95059371e+00,  2.56612277e+00],\n",
       "        [-1.04502320e+00, -1.68943560e+00, -1.66568995e-01,\n",
       "         -1.59150496e-01,  1.24501634e+00, -1.07827961e+00,\n",
       "         -3.89589012e-01,  1.98827118e-01,  2.21964931e+00,\n",
       "         -2.12460899e+00,  8.90206814e-01,  2.30559185e-01,\n",
       "         -8.14415291e-02,  3.61673975e+00,  2.56888604e+00,\n",
       "         -1.34318739e-01, -8.61161351e-01,  2.73079062e+00,\n",
       "          1.01662427e-01,  1.58305049e+00,  7.46948361e-01],\n",
       "        [ 1.99471247e+00, -1.36529374e+00,  1.02734172e+00,\n",
       "          1.45611608e+00,  2.86024690e+00,  1.57864130e+00,\n",
       "          3.48459840e-01, -3.61845702e-01,  1.44765604e+00,\n",
       "          8.95347059e-01,  2.19536853e+00,  6.80529028e-02,\n",
       "         -1.36595935e-01,  1.67401576e+00, -3.19519067e+00,\n",
       "         -3.75954330e-01,  1.10198343e+00,  4.86967713e-01,\n",
       "         -3.66117090e-01,  1.18344998e+00, -3.95923376e-01],\n",
       "        [-2.11474508e-01, -2.02818766e-01,  1.45885575e+00,\n",
       "         -6.61375523e-01,  1.04074550e+00,  1.68126207e-02,\n",
       "          1.83847174e-01, -1.37655020e-01,  5.93478024e-01,\n",
       "          6.37376189e-01,  8.29368889e-01, -4.31691594e-02,\n",
       "         -5.00667810e-01,  3.12706804e+00,  4.68430102e-01,\n",
       "         -3.65170181e-01,  4.07958865e-01,  1.23823857e+00,\n",
       "         -8.10790434e-02,  4.05207396e+00,  1.42102349e+00],\n",
       "        [-2.62479758e+00,  5.55838466e-01,  3.45381230e-01,\n",
       "          2.53377557e-01,  3.02261496e+00, -4.53512716e+00,\n",
       "         -1.97589070e-01, -5.97572923e-02,  3.18894386e-01,\n",
       "         -1.85211515e+00,  1.09719551e+00, -8.79230574e-02,\n",
       "          4.05007899e-01,  1.91066325e+00,  9.96758938e-01,\n",
       "          1.02480963e-01, -1.33357072e+00, -5.70317090e-01,\n",
       "          2.42188945e-02,  4.78288889e-01,  1.50278103e+00],\n",
       "        [-8.92933071e-01,  9.31397021e-01,  2.82854390e+00,\n",
       "         -2.44427633e+00, -1.21974862e+00,  2.58027387e+00,\n",
       "         -3.51950258e-01, -3.27458382e-01,  1.41624820e+00,\n",
       "          5.65822311e-02,  1.06682491e+00, -1.47283286e-01,\n",
       "         -4.22473580e-01, -1.27645242e+00,  1.17605865e+00,\n",
       "         -4.94851351e-01,  1.09964502e+00,  2.50421691e+00,\n",
       "         -4.13182288e-01, -7.96419501e-01,  1.05545032e+00],\n",
       "        [ 3.33034098e-01, -6.98207170e-02, -2.65834475e+00,\n",
       "          1.23167324e+00,  5.82049966e-01,  6.68054402e-01,\n",
       "         -2.13966087e-01, -2.86276817e-01,  1.92621410e+00,\n",
       "          8.99776578e-01,  5.90676486e-01, -2.78618813e-01,\n",
       "          2.62369096e-01, -5.94938278e-01,  7.09777251e-02,\n",
       "         -7.58959204e-02, -8.70821714e-01,  8.78593385e-01,\n",
       "         -1.35495856e-01,  2.02916169e+00,  8.13980162e-01],\n",
       "        [-1.03246510e-01,  2.08047912e-01, -1.18410444e+00,\n",
       "          1.31065416e+00,  4.43787336e-01,  6.95384324e-01,\n",
       "         -2.69484371e-02,  2.38634735e-01,  1.80475450e+00,\n",
       "          1.33062327e+00,  1.38469183e+00, -3.20560485e-01,\n",
       "         -2.90400982e-01,  1.45082724e+00,  7.96343029e-01,\n",
       "         -2.28418693e-01,  2.18595341e-01,  5.36107302e-01,\n",
       "          1.59629330e-01,  1.44553781e+00,  1.58913219e+00],\n",
       "        [ 4.99397933e-01, -2.30047011e+00,  1.52765524e+00,\n",
       "          2.15159464e+00,  2.52500677e+00,  8.39470804e-01,\n",
       "         -1.73427641e-01,  7.55354464e-02, -6.82531714e-01,\n",
       "          2.32225776e+00,  2.62786126e+00, -1.04774535e-01,\n",
       "          2.66410440e-01, -1.34823346e+00,  1.75756168e+00,\n",
       "         -1.34523049e-01,  1.67596281e+00,  2.05242372e+00,\n",
       "          6.64589703e-02, -7.15987325e-01,  3.89566630e-01],\n",
       "        [ 3.22503716e-01, -8.89171183e-01,  3.90204287e+00,\n",
       "          2.32619762e+00,  2.06101418e-01,  6.99223340e-01,\n",
       "         -4.81784701e-01, -3.66199255e-01, -1.10289884e+00,\n",
       "          1.53373766e+00,  3.77798176e+00,  3.52036022e-02,\n",
       "         -2.27184482e-02,  2.39968252e+00,  1.21734512e+00,\n",
       "          3.98174405e-01,  1.67416036e+00,  1.24324369e+00,\n",
       "         -7.58265629e-02, -5.27798653e+00,  3.55315685e-01],\n",
       "        [-1.66177857e+00,  1.34475851e+00,  2.13196009e-01,\n",
       "         -4.80453908e-01,  2.68304801e+00, -3.29996884e-01,\n",
       "         -2.81264007e-01, -3.68207961e-01,  3.37912965e+00,\n",
       "          3.81867695e+00, -2.92399240e+00,  1.98894054e-01,\n",
       "         -2.08758831e-01, -1.70680189e+00,  2.81363446e-02,\n",
       "         -8.90227333e-02,  1.83983994e+00,  1.77239048e+00,\n",
       "          4.13118452e-01,  2.25242567e+00,  1.98630735e-01],\n",
       "        [ 1.44751537e+00,  2.22890282e+00,  3.14375639e+00,\n",
       "         -2.97144026e-01,  3.92865360e-01,  5.48280120e-01,\n",
       "         -1.71763793e-01, -1.57547086e-01,  6.17652476e-01,\n",
       "         -4.29097980e-01,  1.75587869e+00, -2.96540856e-01,\n",
       "         -3.54101807e-01,  6.57152116e-01,  1.47532213e+00,\n",
       "         -8.07433575e-02,  3.56374979e+00,  1.85579479e+00,\n",
       "         -4.80419099e-01,  3.71975803e+00,  7.16917455e-01],\n",
       "        [-5.44023216e-01,  7.66655684e-01, -2.06842050e-01,\n",
       "         -4.13351297e-01,  3.42730498e+00,  9.02855158e-01,\n",
       "          3.68529856e-01,  3.16968769e-01, -6.39720559e-02,\n",
       "         -9.13910687e-01,  9.31162298e-01, -3.05706233e-01,\n",
       "         -3.72774959e-01,  3.27980109e-02,  6.90615773e-01,\n",
       "         -9.48583037e-02,  3.90019131e+00, -1.77640891e+00,\n",
       "          1.36121958e-01, -1.84497389e-03, -4.64297593e-01],\n",
       "        [ 2.61287838e-01,  2.81030476e-01,  1.88914090e-01,\n",
       "         -3.13313782e-01,  1.62549466e-01,  4.71227348e-01,\n",
       "          3.16781253e-01, -3.39022696e-01, -3.23652178e-01,\n",
       "          7.46279731e-02, -2.31997773e-01, -1.17907599e-01,\n",
       "          2.90982038e-01, -1.94769949e-01,  2.29110003e-01,\n",
       "          1.63038462e-01,  1.93192959e-01, -1.35274649e-01,\n",
       "         -2.33264863e-02,  2.46417999e-01, -4.07351166e-01],\n",
       "        [ 2.81214380e+00,  3.03878903e-01,  2.19388485e+00,\n",
       "          5.05170673e-02, -1.22162700e+00,  9.13559318e-01,\n",
       "         -9.27414803e-04,  1.57112032e-01, -7.86292434e-01,\n",
       "          1.69535911e+00,  2.65417814e+00, -3.29312623e-01,\n",
       "          2.05537558e-01, -1.09724569e+00, -1.75487809e-02,\n",
       "         -3.29961553e-02,  9.04070377e-01, -6.96193159e-01,\n",
       "         -2.67145604e-01,  1.01666248e+00,  5.70421159e-01],\n",
       "        [-6.41459525e-02,  7.05065906e-01,  5.23938537e-01,\n",
       "          2.85750270e+00, -1.54182458e+00,  4.67034400e-01,\n",
       "         -3.55819911e-01,  3.35233241e-01,  1.11186659e+00,\n",
       "          1.17479122e+00, -8.75660062e-01,  3.41732770e-01,\n",
       "         -2.30948091e-01,  1.13699460e+00,  1.06312180e+00,\n",
       "         -2.28360891e-01,  3.79328340e-01, -1.16321385e+00,\n",
       "          2.47709185e-01,  2.79189730e+00,  2.56615138e+00],\n",
       "        [ 3.27672988e-01,  3.92061830e-01, -8.69631410e-01,\n",
       "          1.67558181e+00,  4.48537558e-01,  3.16135019e-01,\n",
       "         -2.84229875e-01,  3.75642270e-01,  2.00410700e+00,\n",
       "          8.97977948e-01,  1.31944454e+00, -2.25655466e-01,\n",
       "         -3.72575760e-01,  3.20144153e+00,  2.61769652e+00,\n",
       "         -3.06205928e-01, -2.45917425e-01,  9.01605725e-01,\n",
       "         -2.32443526e-01, -9.01978970e-01, -7.18256414e-01],\n",
       "        [ 8.41782451e-01,  3.10199594e+00,  7.62011230e-01,\n",
       "          1.28962743e+00,  9.65136111e-01, -6.24870920e+00,\n",
       "         -1.67553842e-01, -2.20422283e-01,  1.39158034e+00,\n",
       "          9.91002917e-01,  3.33667159e-01,  1.45178929e-01,\n",
       "         -2.87617534e-01,  1.25965583e+00,  4.22197044e-01,\n",
       "         -1.19778685e-01,  4.96066995e-02,  2.27751112e+00,\n",
       "         -2.84210026e-01,  2.03033185e+00, -7.71602333e-01],\n",
       "        [ 2.27459931e+00,  8.46500874e-01,  2.66764975e+00,\n",
       "          1.61687458e+00, -8.76805186e-03,  4.02931023e+00,\n",
       "          3.83341080e-03, -4.10899878e-01,  2.65637636e+00,\n",
       "         -8.34698677e-01,  1.27378953e+00, -9.94591042e-02,\n",
       "         -1.67765245e-01,  2.85952497e+00,  3.03341448e-01,\n",
       "          2.62308031e-01,  3.67907509e-02, -1.58676192e-01,\n",
       "          1.40776098e-01,  9.06262815e-01, -1.30465642e-01],\n",
       "        [ 1.04682028e+00,  2.26144981e+00,  2.01112843e+00,\n",
       "          2.00677347e+00,  2.04234886e+00,  1.08293343e+00,\n",
       "         -5.18965065e-01, -1.09136581e-01,  2.14662254e-01,\n",
       "          1.12133455e+00,  1.45416474e+00,  9.72727034e-03,\n",
       "         -3.07777435e-01,  2.93488920e-01,  1.59070241e+00,\n",
       "         -2.39086166e-01, -4.76617247e-01,  9.25664425e-01,\n",
       "          1.47617266e-01,  1.27455556e+00,  1.32312739e+00],\n",
       "        [-3.25912207e-01, -4.23857063e-01, -3.77577335e-01,\n",
       "          1.16472602e-01, -1.60886198e-01, -4.87654865e-01,\n",
       "          3.84156615e-01, -1.40510082e-01,  1.96583942e-01,\n",
       "         -2.35074878e-01, -5.40969037e-02, -4.31161046e-01,\n",
       "          3.74569923e-01, -1.53691530e-01,  2.99724638e-01,\n",
       "          4.80203182e-02, -3.23902577e-01, -1.31105483e-02,\n",
       "          5.96632659e-02,  2.96753317e-01,  2.26387978e-02],\n",
       "        [ 1.03530324e+00,  1.10467851e+00, -3.26128490e-02,\n",
       "          1.11677253e+00,  8.67191374e-01,  4.27625418e-01,\n",
       "          2.31746763e-01, -3.52009535e-02,  1.94265032e+00,\n",
       "          2.41613436e+00,  1.64501786e+00,  2.28456885e-01,\n",
       "          3.11633144e-02,  2.57435471e-01,  1.55578411e+00,\n",
       "         -4.11172211e-01,  5.57910621e-01,  1.90594172e+00,\n",
       "         -4.39472944e-02,  8.39095950e-01,  1.43765342e+00],\n",
       "        [-2.05104098e-01,  1.13685358e+00,  1.00277305e+00,\n",
       "          1.05196106e+00,  2.42036271e+00,  8.70175958e-01,\n",
       "         -1.18386246e-01, -2.11259887e-01,  4.69508879e-02,\n",
       "          6.09383225e-01,  3.52624446e-01, -1.63155630e-01,\n",
       "         -5.04291505e-02,  1.43264711e+00, -1.22640431e-02,\n",
       "          7.89078176e-02,  1.86707795e-01,  9.69633162e-01,\n",
       "         -3.84060442e-01,  2.83936620e+00,  1.10298383e+00]], dtype=float32),\n",
       " array([ 2.1446495 ,  3.1385453 ,  1.5132588 ,  2.6038465 ,  3.2596974 ,\n",
       "         1.960892  , -0.00719239,  0.        ,  3.353329  ,  3.2552912 ,\n",
       "         2.407379  , -0.10606883, -0.08143516,  1.9806288 ,  3.455113  ,\n",
       "        -0.06072956,  0.94056535,  1.8173757 , -0.1005007 ,  2.029534  ,\n",
       "         2.6396062 ], dtype=float32)]"
      ]
     },
     "execution_count": 48,
     "metadata": {},
     "output_type": "execute_result"
    }
   ],
   "source": [
    "model_weights_path = r\"model_final.pkl\"\n",
    "model_weights= pd.read_pickle(model_weights_path)\n",
    "model_weights"
   ]
  },
  {
   "cell_type": "code",
   "execution_count": 49,
   "metadata": {},
   "outputs": [],
   "source": [
    "np_array = np.array([episodes,rewards,times,trips])\n",
    "np.save('result.npy', np_array)"
   ]
  },
  {
   "cell_type": "code",
   "execution_count": null,
   "metadata": {},
   "outputs": [],
   "source": []
  },
  {
   "cell_type": "markdown",
   "metadata": {},
   "source": [
    "### Tracking Convergence"
   ]
  },
  {
   "cell_type": "code",
   "execution_count": 50,
   "metadata": {},
   "outputs": [
    {
     "data": {
      "image/png": "[encoded data removed]",
      "text/plain": [
       "<Figure size 1080x360 with 3 Axes>"
      ]
     },
     "metadata": {
      "needs_background": "light"
     },
     "output_type": "display_data"
    }
   ],
   "source": [
    "tracked_data_array = np.load('result.npy')\n",
    "episodes = tracked_data_array[0]\n",
    "rewards = tracked_data_array[1]\n",
    "times = tracked_data_array[2]\n",
    "trips = tracked_data_array[3]\n",
    "\n",
    "plt.figure(figsize=(15,5))\n",
    "\n",
    "plt.subplot(131)\n",
    "plt.plot(episodes, rewards, 'b')\n",
    "plt.xlabel('episode')\n",
    "plt.ylabel('reward')\n",
    "plt.title('reward vs episode')\n",
    "\n",
    "\n",
    "plt.subplot(132)\n",
    "plt.plot(episodes, times, 'b')\n",
    "plt.xlabel('episode')\n",
    "plt.ylabel('trip time')\n",
    "plt.title('episode vs trip time')\n",
    "\n",
    "plt.subplot(133)\n",
    "plt.plot(episodes, trips, 'b')\n",
    "plt.xlabel('episode')\n",
    "plt.ylabel('trips')\n",
    "plt.title('episode vs trips')\n",
    "\n",
    "plt.show()"
   ]
  },
  {
   "cell_type": "code",
   "execution_count": 51,
   "metadata": {},
   "outputs": [],
   "source": [
    "with open('state_action_sample.pickle', 'wb') as handle:\n",
    "    pickle.dump(samples, handle, protocol=pickle.HIGHEST_PROTOCOL)"
   ]
  },
  {
   "cell_type": "code",
   "execution_count": 54,
   "metadata": {},
   "outputs": [
    {
     "data": {
      "text/plain": [
       "<matplotlib.legend.Legend at 0x16905dd6eb0>"
      ]
     },
     "execution_count": 54,
     "metadata": {},
     "output_type": "execute_result"
    },
    {
     "data": {
      "image/png": "[encoded data removed]",
      "text/plain": [
       "<Figure size 1152x576 with 1 Axes>"
      ]
     },
     "metadata": {
      "needs_background": "light"
     },
     "output_type": "display_data"
    }
   ],
   "source": [
    "with open('state_action_sample.pickle', 'rb') as handle:\n",
    "    state_action_sample = pickle.load(handle)\n",
    "\n",
    "plt.figure(figsize=(16, 8))\n",
    "for state_action,sample in filter(lambda elem: len(elem[1]) >= 5, state_action_sample.items()):\n",
    "  plt.plot(sample, label='state:{}, action:{}'.format(state_action[0], state_action[1]))\n",
    "    \n",
    "plt.xlabel('time step')\n",
    "plt.ylabel('q_value')\n",
    "plt.title('q_value vs time steps for state-action samples')\n",
    "plt.legend()"
   ]
  },
  {
   "cell_type": "markdown",
   "metadata": {},
   "source": [
    "#### Epsilon-decay sample function"
   ]
  },
  {
   "cell_type": "markdown",
   "metadata": {},
   "source": [
    "<div class=\"alert alert-block alert-info\">\n",
    "Try building a similar epsilon-decay function for your model.\n",
    "</div>"
   ]
  },
  {
   "cell_type": "code",
   "execution_count": null,
   "metadata": {},
   "outputs": [],
   "source": [
    "time = np.arange(0,10000)\n",
    "epsilon = []\n",
    "for i in range(0,10000):\n",
    "    epsilon.append(0 + (1 - 0) * np.exp(-0.0009*i))"
   ]
  },
  {
   "cell_type": "code",
   "execution_count": null,
   "metadata": {},
   "outputs": [],
   "source": [
    "plt.plot(time, epsilon)\n",
    "plt.show()"
   ]
  },
  {
   "cell_type": "code",
   "execution_count": null,
   "metadata": {},
   "outputs": [],
   "source": []
  }
 ],
 "metadata": {
  "kernelspec": {
   "display_name": "Python 3",
   "language": "python",
   "name": "python3"
  },
  "language_info": {
   "codemirror_mode": {
    "name": "ipython",
    "version": 3
   },
   "file_extension": ".py",
   "mimetype": "text/x-python",
   "name": "python",
   "nbconvert_exporter": "python",
   "pygments_lexer": "ipython3",
   "version": "3.8.11"
  }
 },
 "nbformat": 4,
 "nbformat_minor": 4
}
